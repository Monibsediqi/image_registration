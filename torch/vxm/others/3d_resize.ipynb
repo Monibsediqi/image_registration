{
 "cells": [
  {
   "cell_type": "code",
   "execution_count": 3,
   "metadata": {
    "collapsed": true,
    "pycharm": {
     "name": "#%%\n"
    }
   },
   "outputs": [],
   "source": [
    "import os\n",
    "\n",
    "import ants\n",
    "import numpy as np\n",
    "import pydicom\n",
    "import nibabel\n",
    "import dicom2nifti\n",
    "from tqdm import tqdm\n",
    "from skimage.measure import find_contours\n",
    "import glob\n",
    "from ants import registration, from_numpy, pad_image, create_jacobian_determinant_image, plot_grid, simulate_displacement_field\n",
    "from ants import create_warped_grid, plot\n",
    "from PIL import Image\n",
    "import scipy"
   ]
  },
  {
   "cell_type": "code",
   "execution_count": 4,
   "outputs": [],
   "source": [
    "def resize_data_volume(data, dim_list):\n",
    "    \"\"\"\"\n",
    "    Resize the data to the dim size\n",
    "    Note: the ratios are not maintained because the voxels have different size and the spatial dimensions are also different\n",
    "    \"\"\"\n",
    "    depth, height, width = data.shape\n",
    "    scale = [dim_list[0] * 1.0/depth, dim_list[1] * 1.0/height, dim_list[2] * 1.0 / width]\n",
    "    print(scale)\n",
    "    return scipy.ndimage.interpolation.zoom(data, scale, order = 0)"
   ],
   "metadata": {
    "collapsed": false,
    "pycharm": {
     "name": "#%%\n"
    }
   }
  },
  {
   "cell_type": "code",
   "execution_count": 5,
   "outputs": [],
   "source": [
    "def read_dicom_files(dicom_dir):\n",
    "    try:\n",
    "        dicom_files = glob.glob(os.path.join(dicom_dir, \"*.*\"))\n",
    "        sorted_dicom_files = sorted(dicom_files)\n",
    "        stacked_dicom = [pydicom.dcmread(dicom_file) for dicom_file in sorted_dicom_files]\n",
    "        return stacked_dicom\n",
    "    except IndexError as e:\n",
    "        print(f\"{e}, at path {dicom_dir}\")\n",
    "        return None"
   ],
   "metadata": {
    "collapsed": false,
    "pycharm": {
     "name": "#%%\n"
    }
   }
  },
  {
   "cell_type": "code",
   "execution_count": 10,
   "outputs": [
    {
     "name": "stdout",
     "output_type": "stream",
     "text": [
      "set()\n"
     ]
    },
    {
     "name": "stderr",
     "output_type": "stream",
     "text": [
      "Progress: : 0it [00:00, ?it/s]"
     ]
    },
    {
     "name": "stdout",
     "output_type": "stream",
     "text": [
      "before resize, moving 3d shape :  (512, 512, 72)\n",
      "[0.5, 0.5, 0.5]\n",
      "After resize, resized_moving shape: (256, 256, 36)\n"
     ]
    },
    {
     "name": "stderr",
     "output_type": "stream",
     "text": [
      "Progress: : 1it [00:01,  1.41s/it]"
     ]
    },
    {
     "name": "stdout",
     "output_type": "stream",
     "text": [
      "before resize, moving 3d shape :  (512, 512, 123)\n",
      "[0.5, 0.5, 0.4959349593495935]\n",
      "After resize, resized_moving shape: (256, 256, 61)\n"
     ]
    },
    {
     "name": "stderr",
     "output_type": "stream",
     "text": [
      "Progress: : 1it [00:03,  3.82s/it]"
     ]
    },
    {
     "name": "stdout",
     "output_type": "stream",
     "text": [
      "save completed!\n"
     ]
    },
    {
     "name": "stderr",
     "output_type": "stream",
     "text": [
      "\n"
     ]
    }
   ],
   "source": [
    "# Base path\n",
    "root_path = \"/media/monib/External Disk/work2022/Base_Dataset/KTL_HCC_Dicom\"\n",
    "save_path_D = \"/media/monib/External Disk/work2022/Base_Dataset/Resized/D\"\n",
    "\n",
    "\n",
    "sub_paths = [root_path + f\"/{sub_dir}\" for sub_dir in os.listdir(root_path)]\n",
    "\n",
    "all_delayed_paths = []\n",
    "all_portal_paths = []\n",
    "\n",
    "for idx, sub_path in enumerate(sub_paths):\n",
    "\n",
    "    pre_phase_path = sub_path + \"/Pre/\"\n",
    "    artery_phase_path = sub_path + \"/A/\"\n",
    "    portal_phase_path = sub_path + \"/P/\"\n",
    "    delayed_phase_path = sub_path + \"/D/\"\n",
    "\n",
    "    for phases_dir in (os.listdir(sub_path)):\n",
    "        if \"V\" in phases_dir:\n",
    "            portal_phase_path = portal_phase_path.split(\"/\")\n",
    "            portal_phase_path.remove(\"P\")\n",
    "            portal_phase_path = \"/\" + os.path.join(*portal_phase_path) + \"V/\"\n",
    "\n",
    "    all_delayed_paths.append(delayed_phase_path)\n",
    "    all_portal_paths.append(portal_phase_path)\n",
    "\n",
    "patient_id_d = [d.split(\"/\")[7] for d in all_delayed_paths]\n",
    "patient_id_p = [p.split(\"/\")[7] for p in all_portal_paths]\n",
    "set_d = set(patient_id_d)\n",
    "set_p = set(patient_id_p)\n",
    "print(set_d.symmetric_difference(set_p))\n",
    "# print(patient_id_d)\n",
    "\n",
    "patient_id_d_sorted = sorted(patient_id_d)\n",
    "patient_id_p_sorted = sorted(patient_id_p)\n",
    "all_delayed_paths_sorted = sorted(all_delayed_paths)\n",
    "all_portal_paths_sorted = sorted(all_portal_paths)\n",
    "\n",
    "# for d, p in zip(all_delayed_paths_sorted, all_portal_paths_sorted):\n",
    "#     print(f\"p: {p}\")\n",
    "\n",
    "empty_paths = []\n",
    "just_val = 0\n",
    "for d_path, p_path, dir_name in tqdm(zip(all_delayed_paths_sorted, all_portal_paths_sorted, patient_id_d_sorted), desc=\"Progress: \"):\n",
    "\n",
    "    dicom_A_stacks = read_dicom_files(d_path)\n",
    "    dicom_B_stacks = read_dicom_files(p_path)\n",
    "\n",
    "    if len(dicom_A_stacks) == 0 or len(dicom_B_stacks) == 0:\n",
    "        empty_paths.append(d_path)\n",
    "        continue\n",
    "    moving_shape = list(dicom_A_stacks[0].pixel_array.shape)\n",
    "    moving_shape.append(len(dicom_A_stacks))\n",
    "\n",
    "    moving_3d = np.zeros(moving_shape)\n",
    "\n",
    "    for s in range(len(dicom_A_stacks)):\n",
    "        moving_3d[:, :, s] = dicom_A_stacks[s].pixel_array\n",
    "\n",
    "    fixed_shape = list(dicom_B_stacks[0].pixel_array.shape)\n",
    "    fixed_shape.append(len(dicom_B_stacks))\n",
    "\n",
    "    fixed_3d = np.zeros(fixed_shape)\n",
    "\n",
    "    for j in range(len(dicom_B_stacks)):\n",
    "        fixed_3d[:, :, j] = dicom_B_stacks[j].pixel_array\n",
    "\n",
    "    print('before resize, moving 3d shape : ',moving_3d.shape )\n",
    "    resized_moving = resize_data_volume(moving_3d, [256,256,moving_3d.shape[2]//2])\n",
    "    print('After resize, resized_moving shape:', resized_moving.shape )\n",
    "\n",
    "    moving_ants_img = from_numpy(moving_3d)\n",
    "\n",
    "    save_to_path_d = os.path.join(save_path_D, dir_name + \"_resized\")\n",
    "\n",
    "    os.makedirs(save_to_path_d, exist_ok=True)\n",
    "\n",
    "    for r in range(resized_moving.shape[2]):\n",
    "        dicom_slice = dicom_A_stacks[r]\n",
    "        moved_slice = resized_moving[:, :, r].astype(str(dicom_slice.pixel_array.dtype))\n",
    "        dicom_slice.PixelData = moved_slice.tobytes()\n",
    "        dicom_slice.Rows = resized_moving.shape[0]\n",
    "        dicom_slice.Columns = resized_moving.shape[1]\n",
    "\n",
    "        save_slices_path = os.path.join(save_to_path_d, f\"RS_0000{r:03}.dcm\")\n",
    "\n",
    "        dicom_slice.SeriesDescription = \"[Research & Science] - Generated Data\"\n",
    "        dicom_slice.save_as(save_slices_path)\n",
    "\n",
    "    just_val +=1\n",
    "    if just_val == 2:\n",
    "        break\n",
    "print(\"save completed!\")"
   ],
   "metadata": {
    "collapsed": false,
    "pycharm": {
     "name": "#%%\n"
    }
   }
  },
  {
   "cell_type": "code",
   "execution_count": null,
   "outputs": [],
   "source": [],
   "metadata": {
    "collapsed": false,
    "pycharm": {
     "name": "#%%\n"
    }
   }
  }
 ],
 "metadata": {
  "kernelspec": {
   "display_name": "Python 3",
   "language": "python",
   "name": "python3"
  },
  "language_info": {
   "codemirror_mode": {
    "name": "ipython",
    "version": 2
   },
   "file_extension": ".py",
   "mimetype": "text/x-python",
   "name": "python",
   "nbconvert_exporter": "python",
   "pygments_lexer": "ipython2",
   "version": "2.7.6"
  }
 },
 "nbformat": 4,
 "nbformat_minor": 0
}