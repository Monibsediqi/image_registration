{
 "cells": [
  {
   "cell_type": "code",
   "execution_count": 1,
   "metadata": {
    "collapsed": true,
    "pycharm": {
     "name": "#%%\n"
    }
   },
   "outputs": [],
   "source": [
    "import os\n",
    "\n",
    "import matplotlib.pyplot as plt\n",
    "import nibabel\n",
    "\n",
    "from tqdm import tqdm\n",
    "import numpy as np\n",
    "from data_preparation.utils import  resize_data_volume\n",
    "from scipy import ndimage\n",
    "from scipy.interpolate import interpn\n",
    "from pytorch.build_model import BuildSTN\n",
    "from torch import nn\n",
    "import torch.nn.functional as F\n",
    "import torch\n"
   ]
  },
  {
   "cell_type": "code",
   "execution_count": 168,
   "outputs": [],
   "source": [
    "class SpatialTransformer(nn.Module):\n",
    "\n",
    "    def __init__(self, dim, mode='nearest'):\n",
    "        \"\"\"\n",
    "        Instiatiate the block\n",
    "            :param input_shape: size of input to the spatial transformer block (h,w,d)\n",
    "            :param mode: method of interpolation for grid_sampler\n",
    "        \"\"\"\n",
    "        super(SpatialTransformer, self).__init__()\n",
    "        self.dim = dim\n",
    "        self.mode = mode\n",
    "\n",
    "    def forward(self, src, flow):\n",
    "        \"\"\"\n",
    "        Push the src and flow through the spatial transform block\n",
    "            :param src: the original aligned_liver image\n",
    "            :param flow: the exp_output from the U-Net\n",
    "        \"\"\"\n",
    "        if self.dim == 3:\n",
    "            batch, channel, height, width, slices = flow.size()\n",
    "            size = [height, width, slices]\n",
    "        else:\n",
    "            batch, channel, height, width = flow.size()\n",
    "            size = [height, width]\n",
    "        # Create sampling grid\n",
    "        vectors = [torch.arange(0, s) for s in size]\n",
    "        grids = torch.meshgrid(vectors)\n",
    "        grid = torch.stack(grids)  # y, x, z\n",
    "        grid = torch.unsqueeze(grid, 0)  # add batch\n",
    "        grid = grid.type(torch.FloatTensor)\n",
    "        new_locs = grid + flow\n",
    "        shape = flow.shape[2:]\n",
    "        # Need to normalize grid values to [-1, 1] for resampler\n",
    "        for i in range(len(shape)):\n",
    "            new_locs[:, i, ...] = 2 * (new_locs[:, i, ...] / (shape[i] - 1) - 0.5)\n",
    "\n",
    "        if len(shape) == 2:\n",
    "            new_locs = new_locs.permute(0, 2, 3, 1)\n",
    "            new_locs = new_locs[..., [1, 0]]\n",
    "        elif len(shape) == 3:\n",
    "            new_locs = new_locs.permute(0, 2, 3, 4, 1)\n",
    "            new_locs = new_locs[..., [2, 1, 0]]\n",
    "        print(\"new locs shape\", new_locs.shape)\n",
    "\n",
    "        return F.grid_sample(src, new_locs, align_corners =True, mode=self.mode)"
   ],
   "metadata": {
    "collapsed": false,
    "pycharm": {
     "name": "#%%\n"
    }
   }
  },
  {
   "cell_type": "code",
   "execution_count": 169,
   "outputs": [],
   "source": [
    "def norm_z_score(image_A):\n",
    "    mean_val = np.mean(image_A)\n",
    "    std_val = np.std(image_A)\n",
    "\n",
    "    rescale_slope = std_val + 1e-13\n",
    "    rescale_intercept = mean_val\n",
    "\n",
    "    image_A = (image_A - rescale_intercept) / rescale_slope\n",
    "    return image_A, rescale_slope, rescale_intercept"
   ],
   "metadata": {
    "collapsed": false,
    "pycharm": {
     "name": "#%%\n"
    }
   }
  },
  {
   "cell_type": "code",
   "execution_count": 178,
   "outputs": [
    {
     "name": "stdout",
     "output_type": "stream",
     "text": [
      "before resize delayed scan shape (512, 512, 103)\n",
      "before resize portal scan shape (512, 512, 103)\n",
      "before resize portal mask shape (512, 512, 103)\n",
      "[0.25, 0.25, 0.24271844660194175]\n",
      "[0.25, 0.25, 0.24271844660194175]\n",
      "[0.25, 0.25, 0.24271844660194175]\n",
      "[0.25, 0.25, 0.24271844660194175]\n",
      "after resize d scan shape (128, 128, 25)\n",
      "after resize p scan shape (128, 128, 25)\n",
      "after resize d mask shape (128, 128, 25)\n",
      "after resize p mask shape (128, 128, 25)\n"
     ]
    }
   ],
   "source": [
    "# save dir\n",
    "d_scan_path = 'HCC_1174/D/input/li_0000.nii'\n",
    "d_mask_path = \"HCC_1174/D/output/li.nii\"\n",
    "p_scan_path = 'HCC_1174/P/input/li_0000.nii'\n",
    "p_mask_path = 'HCC_1174/P/output/li.nii'\n",
    "\n",
    "# d part\n",
    "d_scan = nibabel.load(d_scan_path)\n",
    "d_scan_array = d_scan.get_fdata()\n",
    "d_scan_array = np.flip(np.rot90(d_scan_array, axes = (0,1)), axis = 2)\n",
    "\n",
    "# pre masks\n",
    "d_mask_file = nibabel.load(d_mask_path)\n",
    "d_mask_array = d_mask_file.get_fdata()\n",
    "d_mask_array = np.flip(np.rot90(d_mask_array, axes = (0,1)), axis = 2)\n",
    "# d_mask_array[d_mask_array == 2] = 1\n",
    "\n",
    "# portal part\n",
    "p_scan = nibabel.load(p_scan_path)\n",
    "p_scan_array = p_scan.get_fdata()\n",
    "p_scan_array = np.flip( np.rot90(p_scan_array, axes = (0,1)), axis = 2)\n",
    "\n",
    "# portal masks\n",
    "p_mask_file = nibabel.load(p_mask_path)\n",
    "p_mask_array = p_mask_file.get_fdata()\n",
    "p_mask_array = np.flip(np.rot90(p_mask_array, axes = (0,1)), axis = 2)\n",
    "# p_mask_array[p_mask_array == 2] = 1\n",
    "\n",
    "print('before resize delayed scan shape', d_scan_array.shape)\n",
    "print('before resize portal scan shape', p_scan_array.shape)\n",
    "print('before resize portal mask shape', p_mask_array.shape)\n",
    "\n",
    "p_mask_val = p_scan_array * ndimage.binary_fill_holes(p_mask_array)\n",
    "d_mask_val = d_scan_array * ndimage.binary_fill_holes(d_mask_array)\n",
    "\n",
    "sf = 0.25  # shrink down 4 times\n",
    "resized_d_scan = resize_data_volume(d_scan_array, [int(d_scan_array.shape[0] * sf), int(d_scan_array.shape[1] * sf), int(d_scan_array.shape[2] * sf)])\n",
    "resized_p_scan = resize_data_volume(p_scan_array, [int(p_scan_array.shape[0] * sf), int(p_scan_array.shape[1] * sf), int(p_scan_array.shape[2] * sf)])\n",
    "resized_d_mask = resize_data_volume(d_mask_val, [int(d_mask_val.shape[0] * sf), int(d_mask_val.shape[1] * sf), int(d_mask_val.shape[2] * sf)])\n",
    "resized_p_mask = resize_data_volume(p_mask_val, [int(p_mask_val.shape[0] * sf), int(p_mask_val.shape[1] * sf), int(p_mask_val.shape[2] * sf)])\n",
    "\n",
    "print('after resize d scan shape', resized_d_scan.shape)\n",
    "print('after resize p scan shape', resized_p_scan.shape)\n",
    "print('after resize d mask shape', resized_d_mask.shape)\n",
    "print('after resize p mask shape', resized_p_mask.shape)\n"
   ],
   "metadata": {
    "collapsed": false,
    "pycharm": {
     "name": "#%%\n"
    }
   }
  },
  {
   "cell_type": "code",
   "execution_count": 179,
   "outputs": [
    {
     "data": {
      "text/plain": "<matplotlib.image.AxesImage at 0x7f92704a3e10>"
     },
     "execution_count": 179,
     "metadata": {},
     "output_type": "execute_result"
    },
    {
     "data": {
      "text/plain": "<Figure size 1440x720 with 5 Axes>",
      "image/png": "[encoded data removed]"
     },
     "metadata": {
      "needs_background": "light"
     },
     "output_type": "display_data"
    }
   ],
   "source": [
    "fig, (ax1, ax2, ax3, ax4, ax5) =plt.subplots(1,5, figsize = (20, 10))\n",
    "ax1.set_title(\"val mask slice 30\")\n",
    "ax1.imshow(p_mask_val[:, :, 30], cmap='gray')\n",
    "ax2.set_title(\"binary mask slice 30\")\n",
    "ax2.imshow(p_mask_array[:, :, 30], cmap='gray')\n",
    "ax3.set_title(\"portal slice 30\")\n",
    "ax3.imshow(p_scan_array[:, :, 30], cmap='gray')\n",
    "ax4.set_title('delayed mid slice')\n",
    "ax4.imshow(d_scan_array[:, :, 30], cmap='gray')\n",
    "ax5.set_title('delayed mask slice 30')\n",
    "ax5.imshow(d_mask_array[:, :, 30], cmap='gray')"
   ],
   "metadata": {
    "collapsed": false,
    "pycharm": {
     "name": "#%%\n"
    }
   }
  },
  {
   "cell_type": "code",
   "execution_count": 172,
   "outputs": [
    {
     "data": {
      "text/plain": "(3, 512, 512, 103)"
     },
     "execution_count": 172,
     "metadata": {},
     "output_type": "execute_result"
    }
   ],
   "source": [
    "flow_root = '/media/monib/External Disk/work2022/voxelmorph_nets/voxelmorph_v02/scripts/flow_npy'\n",
    "p_id = 'flow_HCC_1174_d.npy'\n",
    "flow_pth = os.path.join(flow_root, p_id)\n",
    "\n",
    "flow_np = np.load(flow_pth)[..., :103]\n",
    "flow_np.shape"
   ],
   "metadata": {
    "collapsed": false,
    "pycharm": {
     "name": "#%%\n"
    }
   }
  },
  {
   "cell_type": "code",
   "execution_count": 173,
   "outputs": [],
   "source": [
    "def dice(vol1, vol2, labels = None, nargout = 1):\n",
    "    \"\"\"\n",
    "    Dice [1] volume overlap metric\n",
    "    The default is to *not* return a measure for the background layer (label = 0)\n",
    "    [1] Dice, Lee R. \"Measures of the amount of ecologic association between species.\"\n",
    "    Ecology 26.3 (1945): 297-302.\n",
    "\n",
    "    Parameters\n",
    "    ---------------\n",
    "    vol1 : nd array. The first volume (e.g. predicted volume)\n",
    "    vol2 : nd array. The second volume (e.g. \"true\" volume)\n",
    "\n",
    "    labels : optional vector of labels on which to compute Dice.\n",
    "        If this is not provided, Dice is computed on all non-background (non-0) labels\n",
    "\n",
    "    nargout : optional control of exp_output arguments. if 1, exp_output Dice measure(s).\n",
    "        if 2, exp_output tuple of (Dice, labels)\n",
    "\n",
    "    method : 'iter' (iterating through channels) or 'hist2' (using a histogram)\n",
    "\n",
    "    Return\n",
    "    ------\n",
    "    if nargout == 1 : dice : vector of dice measures for each labels\n",
    "    if nargout == 2 : (dice, labels) : where labels is a vector of the labels on which\n",
    "        dice was computed\n",
    "    \"\"\"\n",
    "\n",
    "    if labels is None:\n",
    "        labels = np.unique(np.concatenate((vol1, vol2)))\n",
    "        labels = np.delete(labels, np.where(labels == 0))  # remove background\n",
    "\n",
    "    print('len of labels', len(labels))\n",
    "\n",
    "    dicem = np.zeros(len(labels))\n",
    "    for idx, lab in enumerate(labels):\n",
    "        top = 2 * np.sum(np.logical_and(vol1 == lab, vol2 == lab))\n",
    "        bottom = np.sum(vol1 == lab) + np.sum(vol2 == lab)\n",
    "        bottom = np.maximum(bottom, np.finfo(float).eps)  # add epsilon.\n",
    "        dicem[idx] = top / bottom\n",
    "\n",
    "    if nargout == 1:\n",
    "        return dicem\n",
    "    else:\n",
    "        return (dicem, labels)"
   ],
   "metadata": {
    "collapsed": false,
    "pycharm": {
     "name": "#%%\n"
    }
   }
  },
  {
   "cell_type": "code",
   "execution_count": 186,
   "outputs": [],
   "source": [
    "def dice_loss (y_true, y_pred):\n",
    "    ndims = len(list(y_pred.size())) - 2\n",
    "    vol_axes = list(range(2, ndims + 2))\n",
    "    top = 2 * (y_true * y_pred).sum(dim=vol_axes)\n",
    "    bottom = torch.clamp((y_true + y_pred).sum(dim=vol_axes), min=1e-5)\n",
    "    dice = torch.mean(top / bottom)\n",
    "\n",
    "    return dice"
   ],
   "metadata": {
    "collapsed": false,
    "pycharm": {
     "name": "#%%\n"
    }
   }
  },
  {
   "cell_type": "code",
   "execution_count": 188,
   "outputs": [
    {
     "name": "stdout",
     "output_type": "stream",
     "text": [
      "y_true shape (1, 1, 512, 512, 103)\n",
      "tensor(1.2948, dtype=torch.float64)\n"
     ]
    }
   ],
   "source": [
    "# Dice as a metric (a.k.a, hard Dice)\n",
    "y_true = d_mask_array.astype(np.float64)[np.newaxis, ...][np.newaxis, ...]\n",
    "y_pred = p_mask_array.astype(np.float64)[np.newaxis, ...][np.newaxis, ...]\n",
    "\n",
    "print('y_true shape', y_true.shape)\n",
    "\n",
    "y_true = torch.from_numpy(y_true)\n",
    "y_pred = torch.from_numpy(y_pred)\n",
    "d_loss = dice_loss(y_true, y_pred)\n",
    "\n",
    "# dice_score = dice(d_mask_array, d_mask_array)\n",
    "print(d_loss)"
   ],
   "metadata": {
    "collapsed": false,
    "pycharm": {
     "name": "#%%\n"
    }
   }
  },
  {
   "cell_type": "code",
   "execution_count": 166,
   "outputs": [
    {
     "ename": "TypeError",
     "evalue": "'int' object is not callable",
     "output_type": "error",
     "traceback": [
      "\u001B[0;31m---------------------------------------------------------------------------\u001B[0m",
      "\u001B[0;31mTypeError\u001B[0m                                 Traceback (most recent call last)",
      "\u001B[0;32m/tmp/ipykernel_220422/1213171630.py\u001B[0m in \u001B[0;36m<module>\u001B[0;34m\u001B[0m\n\u001B[1;32m      1\u001B[0m \u001B[0;31m# Dice as a loss (a.k.a, soft dice)\u001B[0m\u001B[0;34m\u001B[0m\u001B[0;34m\u001B[0m\u001B[0;34m\u001B[0m\u001B[0m\n\u001B[0;32m----> 2\u001B[0;31m \u001B[0mdice_l\u001B[0m \u001B[0;34m=\u001B[0m \u001B[0mdice_loss\u001B[0m\u001B[0;34m(\u001B[0m\u001B[0md_mask_array\u001B[0m\u001B[0;34m,\u001B[0m \u001B[0md_mask_array\u001B[0m\u001B[0;34m)\u001B[0m\u001B[0;34m\u001B[0m\u001B[0;34m\u001B[0m\u001B[0m\n\u001B[0m",
      "\u001B[0;32m/tmp/ipykernel_220422/167945573.py\u001B[0m in \u001B[0;36mdice_loss\u001B[0;34m(y_true, y_pred)\u001B[0m\n\u001B[1;32m      1\u001B[0m \u001B[0;32mdef\u001B[0m \u001B[0mdice_loss\u001B[0m \u001B[0;34m(\u001B[0m\u001B[0my_true\u001B[0m\u001B[0;34m,\u001B[0m \u001B[0my_pred\u001B[0m\u001B[0;34m)\u001B[0m\u001B[0;34m:\u001B[0m\u001B[0;34m\u001B[0m\u001B[0;34m\u001B[0m\u001B[0m\n\u001B[0;32m----> 2\u001B[0;31m     \u001B[0mndims\u001B[0m \u001B[0;34m=\u001B[0m \u001B[0mlen\u001B[0m\u001B[0;34m(\u001B[0m\u001B[0mlist\u001B[0m\u001B[0;34m(\u001B[0m\u001B[0my_pred\u001B[0m\u001B[0;34m.\u001B[0m\u001B[0msize\u001B[0m\u001B[0;34m(\u001B[0m\u001B[0;34m)\u001B[0m\u001B[0;34m)\u001B[0m\u001B[0;34m)\u001B[0m \u001B[0;34m-\u001B[0m\u001B[0;36m2\u001B[0m\u001B[0;34m\u001B[0m\u001B[0;34m\u001B[0m\u001B[0m\n\u001B[0m\u001B[1;32m      3\u001B[0m     \u001B[0mvol_axes\u001B[0m \u001B[0;34m=\u001B[0m \u001B[0mlist\u001B[0m\u001B[0;34m(\u001B[0m\u001B[0mrange\u001B[0m\u001B[0;34m(\u001B[0m\u001B[0;36m2\u001B[0m\u001B[0;34m,\u001B[0m \u001B[0mndims\u001B[0m \u001B[0;34m+\u001B[0m \u001B[0;36m2\u001B[0m\u001B[0;34m)\u001B[0m\u001B[0;34m)\u001B[0m\u001B[0;34m\u001B[0m\u001B[0;34m\u001B[0m\u001B[0m\n\u001B[1;32m      4\u001B[0m     \u001B[0mtop\u001B[0m \u001B[0;34m=\u001B[0m \u001B[0;36m2\u001B[0m \u001B[0;34m*\u001B[0m \u001B[0;34m(\u001B[0m\u001B[0my_true\u001B[0m \u001B[0;34m*\u001B[0m \u001B[0my_pred\u001B[0m\u001B[0;34m)\u001B[0m\u001B[0;34m.\u001B[0m\u001B[0msum\u001B[0m\u001B[0;34m(\u001B[0m\u001B[0mdim\u001B[0m\u001B[0;34m=\u001B[0m\u001B[0mvol_axes\u001B[0m\u001B[0;34m)\u001B[0m\u001B[0;34m\u001B[0m\u001B[0;34m\u001B[0m\u001B[0m\n\u001B[1;32m      5\u001B[0m     \u001B[0mbottom\u001B[0m \u001B[0;34m=\u001B[0m \u001B[0mtorch\u001B[0m\u001B[0;34m.\u001B[0m\u001B[0mclamp\u001B[0m\u001B[0;34m(\u001B[0m\u001B[0;34m(\u001B[0m\u001B[0my_true\u001B[0m \u001B[0;34m+\u001B[0m \u001B[0my_pred\u001B[0m\u001B[0;34m)\u001B[0m\u001B[0;34m.\u001B[0m\u001B[0msum\u001B[0m\u001B[0;34m(\u001B[0m\u001B[0mdim\u001B[0m\u001B[0;34m=\u001B[0m\u001B[0mvol_axes\u001B[0m\u001B[0;34m)\u001B[0m\u001B[0;34m,\u001B[0m \u001B[0mmin\u001B[0m\u001B[0;34m=\u001B[0m\u001B[0;36m1e-5\u001B[0m\u001B[0;34m)\u001B[0m\u001B[0;34m\u001B[0m\u001B[0;34m\u001B[0m\u001B[0m\n",
      "\u001B[0;31mTypeError\u001B[0m: 'int' object is not callable"
     ]
    }
   ],
   "source": [
    "# Dice as a loss (a.k.a, soft dice)\n",
    "dice_l = dice_loss(d_mask_array, d_mask_array)"
   ],
   "metadata": {
    "collapsed": false,
    "pycharm": {
     "name": "#%%\n"
    }
   }
  },
  {
   "cell_type": "code",
   "execution_count": 189,
   "outputs": [
    {
     "name": "stdout",
     "output_type": "stream",
     "text": [
      "Normed min: 0.0, max: 2.0\n",
      "Normed flow min: -16.090556602338545, max: 47.41627632260821\n",
      " Torch mask shape: torch.Size([1, 1, 512, 512, 103]), flow shape: torch.Size([1, 3, 512, 512, 103])\n",
      "new locs shape torch.Size([1, 512, 512, 103, 3])\n",
      "torch.Size([1, 1, 512, 512, 103])\n",
      "moved mask min: 0.0, max: 2.0\n",
      "de-norm moved mask min: 0.0, max: 2.0\n",
      "original d_mask_val min: -275.0, max: 2301.0\n"
     ]
    }
   ],
   "source": [
    "import torch\n",
    "\n",
    "# n_d_mask, rs, ri = norm_z_score(d_mask_array)\n",
    "# n_p_mask, rs_p, ri_p = norm_z_score(p_mask_val)\n",
    "n_d_mask = d_mask_array.copy()[np.newaxis, ...][np.newaxis, ...]\n",
    "p_d_mask = p_mask_array.copy()[np.newaxis, ...][np.newaxis, ...]\n",
    "n_flow_np, _, _= norm_z_score(flow_np)\n",
    "\n",
    "n_flow_np = n_flow_np[np.newaxis, ...]\n",
    "# To torch\n",
    "d_mask_torch = torch.from_numpy(n_d_mask)\n",
    "p_mask_torch = torch.from_numpy(p_d_mask)\n",
    "flow_torch = torch.from_numpy(n_flow_np)\n",
    "\n",
    "print(f\"Normed min: {np.min(n_d_mask)}, max: {np.max(n_d_mask)}\")\n",
    "print(f\"Normed flow min: {np.min(n_flow_np)}, max: {np.max(n_flow_np)}\")\n",
    "\n",
    "print(f\" Torch mask shape: {d_mask_torch.shape}, flow shape: {flow_torch.shape}\")\n",
    "\n",
    "# moved masked\n",
    "STN = SpatialTransformer(3)\n",
    "moved_mask = STN(d_mask_torch, flow_torch)\n",
    "print(moved_mask.shape)\n",
    "print(f\"moved mask min: {torch.min(moved_mask)}, max: {torch.max(moved_mask)}\")\n",
    "\n",
    "moved_mask_sq = torch.squeeze(torch.squeeze(moved_mask)).numpy()\n",
    "# denorm\n",
    "moved_mask_dn = moved_mask_sq\n",
    "print(f\"de-norm moved mask min: {np.min(moved_mask_dn)}, max: {np.max(moved_mask_dn)}\")\n",
    "print(f\"original d_mask_val min: {np.min(d_mask_val)}, max: {np.max(d_mask_val)}\")"
   ],
   "metadata": {
    "collapsed": false,
    "pycharm": {
     "name": "#%%\n"
    }
   }
  },
  {
   "cell_type": "markdown",
   "source": [],
   "metadata": {
    "collapsed": false,
    "pycharm": {
     "name": "#%% md\n"
    }
   }
  },
  {
   "cell_type": "code",
   "execution_count": 117,
   "outputs": [],
   "source": [
    "# moved_mask_dn[moved_mask_dn > 0.5] = 1\n",
    "# moved_mask_dn[moved_mask_dn <= 0.5] = 0\n",
    "\n",
    "# moved_mask_dn2 = moved_mask_dn * ndimage.binary_fill_holes(d_mask_array)\n"
   ],
   "metadata": {
    "collapsed": false,
    "pycharm": {
     "name": "#%%\n"
    }
   }
  },
  {
   "cell_type": "code",
   "execution_count": 193,
   "outputs": [
    {
     "data": {
      "text/plain": "<matplotlib.image.AxesImage at 0x7f9270005690>"
     },
     "execution_count": 193,
     "metadata": {},
     "output_type": "execute_result"
    },
    {
     "data": {
      "text/plain": "<Figure size 1440x720 with 2 Axes>",
      "image/png": "[encoded data removed]"
     },
     "metadata": {
      "needs_background": "light"
     },
     "output_type": "display_data"
    }
   ],
   "source": [
    "# visualize original mask and moved mask\n",
    "slice_num = 13\n",
    "fig2, (ax1, ax2) =plt.subplots(1,2, figsize = (20, 10))\n",
    "ax1.set_title(\"d val mask slice 30\")\n",
    "ax1.imshow(d_mask_array[:, :, slice_num], cmap='gray')\n",
    "ax2.set_title(\"moved_mask_dn slice 30\")\n",
    "ax2.imshow(moved_mask_dn[:, :, slice_num], cmap='gray')"
   ],
   "metadata": {
    "collapsed": false,
    "pycharm": {
     "name": "#%%\n"
    }
   }
  },
  {
   "cell_type": "code",
   "execution_count": 156,
   "outputs": [
    {
     "name": "stdout",
     "output_type": "stream",
     "text": [
      "len of labels 1\n",
      "0.9336429407089732\n"
     ]
    }
   ],
   "source": [],
   "metadata": {
    "collapsed": false,
    "pycharm": {
     "name": "#%%\n"
    }
   }
  },
  {
   "cell_type": "code",
   "execution_count": null,
   "outputs": [],
   "source": [],
   "metadata": {
    "collapsed": false,
    "pycharm": {
     "name": "#%%\n"
    }
   }
  },
  {
   "cell_type": "code",
   "execution_count": 69,
   "outputs": [
    {
     "name": "stdout",
     "output_type": "stream",
     "text": [
      "0.0\n"
     ]
    }
   ],
   "source": [
    "print(np.max(moved_mask))"
   ],
   "metadata": {
    "collapsed": false,
    "pycharm": {
     "name": "#%%\n"
    }
   }
  },
  {
   "cell_type": "code",
   "execution_count": 10,
   "outputs": [
    {
     "name": "stdout",
     "output_type": "stream",
     "text": [
      "len of labels 1\n",
      "dice loss:  -1685900304596.6409\n",
      "dice score:  1.0\n"
     ]
    }
   ],
   "source": [
    "import torch\n",
    "\n",
    "\n",
    "y_true = resized_d_scan.astype(np.float64)\n",
    "y_pred = resized_d_scan.astype(np.float64)\n",
    "\n",
    "y_true = torch.from_numpy(y_true)\n",
    "y_pred = torch.from_numpy(y_pred)\n",
    "d_loss = dice_loss(y_true, y_pred)\n",
    "print(f\"dice loss: \", d_loss.item())\n",
    "print(f\"dice score: \", np.mean(dice_score))"
   ],
   "metadata": {
    "collapsed": false,
    "pycharm": {
     "name": "#%%\n"
    }
   }
  },
  {
   "cell_type": "code",
   "execution_count": 11,
   "outputs": [],
   "source": [
    "mse_loss =lambda src, tgt: np.mean((tgt - src) ** 2)"
   ],
   "metadata": {
    "collapsed": false,
    "pycharm": {
     "name": "#%%\n"
    }
   }
  },
  {
   "cell_type": "code",
   "execution_count": 12,
   "outputs": [
    {
     "name": "stdout",
     "output_type": "stream",
     "text": [
      "29634.853925916883\n"
     ]
    }
   ],
   "source": [
    "mse = mse_loss(resized_p_scan, resized_d_scan)\n",
    "print(mse)"
   ],
   "metadata": {
    "collapsed": false,
    "pycharm": {
     "name": "#%%\n"
    }
   }
  },
  {
   "cell_type": "code",
   "execution_count": 13,
   "outputs": [],
   "source": [
    "import torch\n",
    "import torch.nn.functional as F\n",
    "\n",
    "\n",
    "def NCC_loss(y_true, y_pred):\n",
    "\n",
    "    y_true = y_true[np.newaxis, ...]\n",
    "    y_pred = y_pred[np.newaxis, ...]\n",
    "\n",
    "    y_true = y_true[np.newaxis, ...]\n",
    "    y_pred = y_pred[np.newaxis, ...]\n",
    "\n",
    "    y_true = torch.from_numpy(y_true)\n",
    "    y_pred = torch.from_numpy(y_pred)\n",
    "\n",
    "\n",
    "    ndims = 3\n",
    "    # set window size\n",
    "    win = [9, 9, 9]\n",
    "    # compute filters\n",
    "    sum_filt = torch.ones([1, 1, *win])\n",
    "\n",
    "    stride = (1, 1, 1)\n",
    "    padding = (4, 4, 4)\n",
    "\n",
    "    # get convolution function\n",
    "    conv_fn = getattr(F, 'conv%dd' % ndims)\n",
    "\n",
    "    # compute CC squares\n",
    "    TT = y_true * y_true\n",
    "    PP = y_pred * y_pred\n",
    "    TP = y_true * y_pred\n",
    "\n",
    "    T_sum = conv_fn(y_true, sum_filt, stride=stride, padding=padding)\n",
    "    P_sum = conv_fn(y_pred, sum_filt, stride=stride, padding=padding)\n",
    "    TT_sum = conv_fn(TT, sum_filt, stride=stride, padding=padding)\n",
    "    PP_sum = conv_fn(PP, sum_filt, stride=stride, padding=padding)\n",
    "    TP_sum = conv_fn(TP, sum_filt, stride=stride, padding=padding)\n",
    "\n",
    "    win_size = np.prod(win)\n",
    "    T_hat = T_sum / win_size\n",
    "    P_hat = P_sum / win_size\n",
    "\n",
    "    cross = TP_sum - P_hat * T_sum - T_hat * P_sum + T_hat * P_hat * win_size\n",
    "    T_var = TT_sum - 2 * T_hat * T_sum + T_hat * T_hat * win_size\n",
    "    P_var = PP_sum - 2 * P_hat * P_sum + P_hat * P_hat * win_size\n",
    "\n",
    "    cc = cross * cross / (T_var * P_var + 1e-5)\n",
    "\n",
    "    return - torch.mean(cc).item()"
   ],
   "metadata": {
    "collapsed": false,
    "pycharm": {
     "name": "#%%\n"
    }
   }
  },
  {
   "cell_type": "code",
   "execution_count": 14,
   "outputs": [],
   "source": [
    "def z_score(image_A, image_B):\n",
    "    mean_val = np.mean(image_A)\n",
    "    std_val = np.std(image_A)\n",
    "\n",
    "    rescale_slope = std_val + 1e-13\n",
    "    rescale_intercept = mean_val\n",
    "\n",
    "    image_3d_A = (image_A - rescale_intercept) / rescale_slope\n",
    "\n",
    "    mean_val = np.mean(image_B)\n",
    "    std_val = np.std(image_B)\n",
    "\n",
    "    rescale_slope = std_val + 1e-13\n",
    "    rescale_intercept = mean_val\n",
    "\n",
    "    image_3d_B = (image_B - rescale_intercept) / rescale_slope\n",
    "    return image_3d_A, image_3d_B"
   ],
   "metadata": {
    "collapsed": false,
    "pycharm": {
     "name": "#%%\n"
    }
   }
  },
  {
   "cell_type": "code",
   "execution_count": 14,
   "outputs": [],
   "source": [],
   "metadata": {
    "collapsed": false,
    "pycharm": {
     "name": "#%%\n"
    }
   }
  },
  {
   "cell_type": "code",
   "execution_count": 16,
   "outputs": [
    {
     "name": "stdout",
     "output_type": "stream",
     "text": [
      "check max: 3063.0, min: -1024.0\n",
      "cross correlation val =  -0.6505203247070312\n"
     ]
    }
   ],
   "source": [
    "# resized_A, resized_B = (resized_d_scan, resized_p_scan,)\n",
    "resized_A, resized_B = (resized_d_scan, resized_p_scan)\n",
    "print(f'check max: {np.max(resized_A)}, min: {np.min(resized_A)}')\n",
    "\n",
    "print(\"cross correlation val = \", NCC_loss(resized_A.astype(np.float32), resized_B.astype(np.float32)))"
   ],
   "metadata": {
    "collapsed": false,
    "pycharm": {
     "name": "#%%\n"
    }
   }
  },
  {
   "cell_type": "code",
   "execution_count": null,
   "outputs": [],
   "source": [],
   "metadata": {
    "collapsed": false,
    "pycharm": {
     "name": "#%%\n"
    }
   }
  }
 ],
 "metadata": {
  "kernelspec": {
   "display_name": "Python 3",
   "language": "python",
   "name": "python3"
  },
  "language_info": {
   "codemirror_mode": {
    "name": "ipython",
    "version": 2
   },
   "file_extension": ".py",
   "mimetype": "text/x-python",
   "name": "python",
   "nbconvert_exporter": "python",
   "pygments_lexer": "ipython2",
   "version": "2.7.6"
  }
 },
 "nbformat": 4,
 "nbformat_minor": 0
}