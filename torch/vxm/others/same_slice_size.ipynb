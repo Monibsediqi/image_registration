{
 "cells": [
  {
   "cell_type": "code",
   "execution_count": 23,
   "metadata": {
    "collapsed": true,
    "pycharm": {
     "name": "#%%\n"
    }
   },
   "outputs": [],
   "source": [
    "import os, glob\n",
    "import csv\n",
    "import pydicom\n",
    "import SimpleITK as sitk\n",
    "import numpy as np\n",
    "import matplotlib.pyplot as plt\n",
    "from scipy.ndimage import zoom\n",
    "from tqdm import tqdm\n",
    "import shutil\n",
    "from distutils.dir_util import copy_tree"
   ]
  },
  {
   "cell_type": "code",
   "execution_count": null,
   "outputs": [],
   "source": [],
   "metadata": {
    "collapsed": false,
    "pycharm": {
     "name": "#%%\n"
    }
   }
  },
  {
   "cell_type": "code",
   "execution_count": 11,
   "outputs": [
    {
     "name": "stdout",
     "output_type": "stream",
     "text": [
      "['HCC_1104', 'HCC_1105', 'HCC_1106', 'HCC_1107', 'HCC_1109', 'HCC_1110', 'HCC_1111', 'HCC_1114', 'HCC_1115', 'HCC_1116', 'HCC_1119', 'HCC_1120', 'HCC_1121', 'HCC_1122', 'HCC_1126', 'HCC_1128', 'HCC_1130', 'HCC_1131', 'HCC_1469', 'HCC_1272', 'HCC_1274', 'HCC_1275', 'HCC_1276', 'HCC_1277', 'HCC_1282', 'HCC_1284', 'HCC_1285', 'HCC_1289', 'HCC_1297', 'HCC_1298', 'HCC_1302', 'HCC_1304', 'HCC_1305', 'HCC_1307', 'HCC_1360', 'HCC_1132', 'HCC_1160', 'HCC_1199', 'HCC_1232', 'HCC_1270', 'HCC_1577', 'HCC_1589', 'HCC_1208', 'HCC_1209', 'HCC_1228', 'HCC_1229', 'HCC_1230', 'HCC_1765', 'HCC_1408', 'HCC_1161', 'HCC_1162', 'HCC_1163', 'HCC_1165', 'HCC_1170', 'HCC_1171', 'HCC_1172', 'HCC_1173', 'HCC_1174', 'HCC_1175', 'HCC_1176', 'HCC_1177', 'HCC_1178', 'HCC_1179', 'HCC_1181', 'HCC_1182', 'HCC_1269', 'HCC_1444', 'HCC_1133', 'HCC_1134', 'HCC_1136', 'HCC_1139', 'HCC_1141', 'HCC_1143', 'HCC_1146', 'HCC_1148', 'HCC_1149', 'HCC_1150', 'HCC_1151', 'HCC_1152', 'HCC_1154']\n"
     ]
    }
   ],
   "source": [
    "text_file = 'same_slice_size_cases_path.txt'\n",
    "file1 = open(text_file, 'r')\n",
    "Lines = file1.readlines()\n",
    "same_patient_ids = []\n",
    "for line in Lines:\n",
    "    same_patient_ids.append(line.split(',')[1].split('/')[1])\n",
    "    # print(line.split(',')[1].split('/')[1])\n",
    "print(same_patient_ids)"
   ],
   "metadata": {
    "collapsed": false,
    "pycharm": {
     "name": "#%%\n"
    }
   }
  },
  {
   "cell_type": "markdown",
   "source": [],
   "metadata": {
    "collapsed": false,
    "pycharm": {
     "name": "#%% md\n"
    }
   }
  },
  {
   "cell_type": "code",
   "execution_count": 14,
   "outputs": [
    {
     "name": "stdout",
     "output_type": "stream",
     "text": [
      "['/media/monib/External Disk/work2022/Base_Dataset/KTL_HCC_Dicom/HCC_1104', '/media/monib/External Disk/work2022/Base_Dataset/KTL_HCC_Dicom/HCC_1105', '/media/monib/External Disk/work2022/Base_Dataset/KTL_HCC_Dicom/HCC_1106', '/media/monib/External Disk/work2022/Base_Dataset/KTL_HCC_Dicom/HCC_1107', '/media/monib/External Disk/work2022/Base_Dataset/KTL_HCC_Dicom/HCC_1109', '/media/monib/External Disk/work2022/Base_Dataset/KTL_HCC_Dicom/HCC_1110', '/media/monib/External Disk/work2022/Base_Dataset/KTL_HCC_Dicom/HCC_1111', '/media/monib/External Disk/work2022/Base_Dataset/KTL_HCC_Dicom/HCC_1114', '/media/monib/External Disk/work2022/Base_Dataset/KTL_HCC_Dicom/HCC_1115', '/media/monib/External Disk/work2022/Base_Dataset/KTL_HCC_Dicom/HCC_1116', '/media/monib/External Disk/work2022/Base_Dataset/KTL_HCC_Dicom/HCC_1119', '/media/monib/External Disk/work2022/Base_Dataset/KTL_HCC_Dicom/HCC_1120', '/media/monib/External Disk/work2022/Base_Dataset/KTL_HCC_Dicom/HCC_1121', '/media/monib/External Disk/work2022/Base_Dataset/KTL_HCC_Dicom/HCC_1122', '/media/monib/External Disk/work2022/Base_Dataset/KTL_HCC_Dicom/HCC_1126', '/media/monib/External Disk/work2022/Base_Dataset/KTL_HCC_Dicom/HCC_1128', '/media/monib/External Disk/work2022/Base_Dataset/KTL_HCC_Dicom/HCC_1130', '/media/monib/External Disk/work2022/Base_Dataset/KTL_HCC_Dicom/HCC_1131', '/media/monib/External Disk/work2022/Base_Dataset/KTL_HCC_Dicom/HCC_1469', '/media/monib/External Disk/work2022/Base_Dataset/KTL_HCC_Dicom/HCC_1272', '/media/monib/External Disk/work2022/Base_Dataset/KTL_HCC_Dicom/HCC_1274', '/media/monib/External Disk/work2022/Base_Dataset/KTL_HCC_Dicom/HCC_1275', '/media/monib/External Disk/work2022/Base_Dataset/KTL_HCC_Dicom/HCC_1276', '/media/monib/External Disk/work2022/Base_Dataset/KTL_HCC_Dicom/HCC_1277', '/media/monib/External Disk/work2022/Base_Dataset/KTL_HCC_Dicom/HCC_1282', '/media/monib/External Disk/work2022/Base_Dataset/KTL_HCC_Dicom/HCC_1284', '/media/monib/External Disk/work2022/Base_Dataset/KTL_HCC_Dicom/HCC_1285', '/media/monib/External Disk/work2022/Base_Dataset/KTL_HCC_Dicom/HCC_1289', '/media/monib/External Disk/work2022/Base_Dataset/KTL_HCC_Dicom/HCC_1297', '/media/monib/External Disk/work2022/Base_Dataset/KTL_HCC_Dicom/HCC_1298', '/media/monib/External Disk/work2022/Base_Dataset/KTL_HCC_Dicom/HCC_1302', '/media/monib/External Disk/work2022/Base_Dataset/KTL_HCC_Dicom/HCC_1304', '/media/monib/External Disk/work2022/Base_Dataset/KTL_HCC_Dicom/HCC_1305', '/media/monib/External Disk/work2022/Base_Dataset/KTL_HCC_Dicom/HCC_1307', '/media/monib/External Disk/work2022/Base_Dataset/KTL_HCC_Dicom/HCC_1360', '/media/monib/External Disk/work2022/Base_Dataset/KTL_HCC_Dicom/HCC_1132', '/media/monib/External Disk/work2022/Base_Dataset/KTL_HCC_Dicom/HCC_1160', '/media/monib/External Disk/work2022/Base_Dataset/KTL_HCC_Dicom/HCC_1199', '/media/monib/External Disk/work2022/Base_Dataset/KTL_HCC_Dicom/HCC_1232', '/media/monib/External Disk/work2022/Base_Dataset/KTL_HCC_Dicom/HCC_1270', '/media/monib/External Disk/work2022/Base_Dataset/KTL_HCC_Dicom/HCC_1577', '/media/monib/External Disk/work2022/Base_Dataset/KTL_HCC_Dicom/HCC_1589', '/media/monib/External Disk/work2022/Base_Dataset/KTL_HCC_Dicom/HCC_1208', '/media/monib/External Disk/work2022/Base_Dataset/KTL_HCC_Dicom/HCC_1209', '/media/monib/External Disk/work2022/Base_Dataset/KTL_HCC_Dicom/HCC_1228', '/media/monib/External Disk/work2022/Base_Dataset/KTL_HCC_Dicom/HCC_1229', '/media/monib/External Disk/work2022/Base_Dataset/KTL_HCC_Dicom/HCC_1230', '/media/monib/External Disk/work2022/Base_Dataset/KTL_HCC_Dicom/HCC_1765', '/media/monib/External Disk/work2022/Base_Dataset/KTL_HCC_Dicom/HCC_1408', '/media/monib/External Disk/work2022/Base_Dataset/KTL_HCC_Dicom/HCC_1161', '/media/monib/External Disk/work2022/Base_Dataset/KTL_HCC_Dicom/HCC_1162', '/media/monib/External Disk/work2022/Base_Dataset/KTL_HCC_Dicom/HCC_1163', '/media/monib/External Disk/work2022/Base_Dataset/KTL_HCC_Dicom/HCC_1165', '/media/monib/External Disk/work2022/Base_Dataset/KTL_HCC_Dicom/HCC_1170', '/media/monib/External Disk/work2022/Base_Dataset/KTL_HCC_Dicom/HCC_1171', '/media/monib/External Disk/work2022/Base_Dataset/KTL_HCC_Dicom/HCC_1172', '/media/monib/External Disk/work2022/Base_Dataset/KTL_HCC_Dicom/HCC_1173', '/media/monib/External Disk/work2022/Base_Dataset/KTL_HCC_Dicom/HCC_1174', '/media/monib/External Disk/work2022/Base_Dataset/KTL_HCC_Dicom/HCC_1175', '/media/monib/External Disk/work2022/Base_Dataset/KTL_HCC_Dicom/HCC_1176', '/media/monib/External Disk/work2022/Base_Dataset/KTL_HCC_Dicom/HCC_1177', '/media/monib/External Disk/work2022/Base_Dataset/KTL_HCC_Dicom/HCC_1178', '/media/monib/External Disk/work2022/Base_Dataset/KTL_HCC_Dicom/HCC_1179', '/media/monib/External Disk/work2022/Base_Dataset/KTL_HCC_Dicom/HCC_1181', '/media/monib/External Disk/work2022/Base_Dataset/KTL_HCC_Dicom/HCC_1182', '/media/monib/External Disk/work2022/Base_Dataset/KTL_HCC_Dicom/HCC_1269', '/media/monib/External Disk/work2022/Base_Dataset/KTL_HCC_Dicom/HCC_1444', '/media/monib/External Disk/work2022/Base_Dataset/KTL_HCC_Dicom/HCC_1133', '/media/monib/External Disk/work2022/Base_Dataset/KTL_HCC_Dicom/HCC_1134', '/media/monib/External Disk/work2022/Base_Dataset/KTL_HCC_Dicom/HCC_1136', '/media/monib/External Disk/work2022/Base_Dataset/KTL_HCC_Dicom/HCC_1139', '/media/monib/External Disk/work2022/Base_Dataset/KTL_HCC_Dicom/HCC_1141', '/media/monib/External Disk/work2022/Base_Dataset/KTL_HCC_Dicom/HCC_1143', '/media/monib/External Disk/work2022/Base_Dataset/KTL_HCC_Dicom/HCC_1146', '/media/monib/External Disk/work2022/Base_Dataset/KTL_HCC_Dicom/HCC_1148', '/media/monib/External Disk/work2022/Base_Dataset/KTL_HCC_Dicom/HCC_1149', '/media/monib/External Disk/work2022/Base_Dataset/KTL_HCC_Dicom/HCC_1150', '/media/monib/External Disk/work2022/Base_Dataset/KTL_HCC_Dicom/HCC_1151', '/media/monib/External Disk/work2022/Base_Dataset/KTL_HCC_Dicom/HCC_1152', '/media/monib/External Disk/work2022/Base_Dataset/KTL_HCC_Dicom/HCC_1154']\n"
     ]
    }
   ],
   "source": [
    "data_root_pth = \"/media/monib/External Disk/work2022/Base_Dataset/KTL_HCC_Dicom\"\n",
    "\n",
    "same_slice_size_paths = []\n",
    "for patient_id in same_patient_ids:\n",
    "    same_slice_size_paths.append(os.path.join(data_root_pth, patient_id))\n",
    "print(same_slice_size_paths)"
   ],
   "metadata": {
    "collapsed": false,
    "pycharm": {
     "name": "#%%\n"
    }
   }
  },
  {
   "cell_type": "code",
   "execution_count": 18,
   "outputs": [
    {
     "name": "stdout",
     "output_type": "stream",
     "text": [
      "/media/monib/External Disk/work2022/Base_Dataset/KTL_HCC_Dicom/HCC_1104/D /media/monib/External Disk/work2022/Base_Dataset/KTL_HCC_Dicom/HCC_1104/V\n",
      "/media/monib/External Disk/work2022/Base_Dataset/KTL_HCC_Dicom/HCC_1105/D /media/monib/External Disk/work2022/Base_Dataset/KTL_HCC_Dicom/HCC_1105/P\n",
      "/media/monib/External Disk/work2022/Base_Dataset/KTL_HCC_Dicom/HCC_1106/D /media/monib/External Disk/work2022/Base_Dataset/KTL_HCC_Dicom/HCC_1106/V\n",
      "/media/monib/External Disk/work2022/Base_Dataset/KTL_HCC_Dicom/HCC_1107/D /media/monib/External Disk/work2022/Base_Dataset/KTL_HCC_Dicom/HCC_1107/V\n",
      "/media/monib/External Disk/work2022/Base_Dataset/KTL_HCC_Dicom/HCC_1109/D /media/monib/External Disk/work2022/Base_Dataset/KTL_HCC_Dicom/HCC_1109/V\n",
      "/media/monib/External Disk/work2022/Base_Dataset/KTL_HCC_Dicom/HCC_1110/D /media/monib/External Disk/work2022/Base_Dataset/KTL_HCC_Dicom/HCC_1110/V\n",
      "/media/monib/External Disk/work2022/Base_Dataset/KTL_HCC_Dicom/HCC_1111/D /media/monib/External Disk/work2022/Base_Dataset/KTL_HCC_Dicom/HCC_1111/P\n",
      "/media/monib/External Disk/work2022/Base_Dataset/KTL_HCC_Dicom/HCC_1114/D /media/monib/External Disk/work2022/Base_Dataset/KTL_HCC_Dicom/HCC_1114/V\n",
      "/media/monib/External Disk/work2022/Base_Dataset/KTL_HCC_Dicom/HCC_1115/D /media/monib/External Disk/work2022/Base_Dataset/KTL_HCC_Dicom/HCC_1115/P\n",
      "/media/monib/External Disk/work2022/Base_Dataset/KTL_HCC_Dicom/HCC_1116/D /media/monib/External Disk/work2022/Base_Dataset/KTL_HCC_Dicom/HCC_1116/P\n",
      "/media/monib/External Disk/work2022/Base_Dataset/KTL_HCC_Dicom/HCC_1119/D /media/monib/External Disk/work2022/Base_Dataset/KTL_HCC_Dicom/HCC_1119/P\n",
      "/media/monib/External Disk/work2022/Base_Dataset/KTL_HCC_Dicom/HCC_1120/D /media/monib/External Disk/work2022/Base_Dataset/KTL_HCC_Dicom/HCC_1120/P\n",
      "/media/monib/External Disk/work2022/Base_Dataset/KTL_HCC_Dicom/HCC_1121/D /media/monib/External Disk/work2022/Base_Dataset/KTL_HCC_Dicom/HCC_1121/V\n",
      "/media/monib/External Disk/work2022/Base_Dataset/KTL_HCC_Dicom/HCC_1122/D /media/monib/External Disk/work2022/Base_Dataset/KTL_HCC_Dicom/HCC_1122/V\n",
      "/media/monib/External Disk/work2022/Base_Dataset/KTL_HCC_Dicom/HCC_1126/D /media/monib/External Disk/work2022/Base_Dataset/KTL_HCC_Dicom/HCC_1126/P\n",
      "/media/monib/External Disk/work2022/Base_Dataset/KTL_HCC_Dicom/HCC_1128/D /media/monib/External Disk/work2022/Base_Dataset/KTL_HCC_Dicom/HCC_1128/P\n",
      "/media/monib/External Disk/work2022/Base_Dataset/KTL_HCC_Dicom/HCC_1130/D /media/monib/External Disk/work2022/Base_Dataset/KTL_HCC_Dicom/HCC_1130/V\n",
      "/media/monib/External Disk/work2022/Base_Dataset/KTL_HCC_Dicom/HCC_1131/D /media/monib/External Disk/work2022/Base_Dataset/KTL_HCC_Dicom/HCC_1131/V\n",
      "/media/monib/External Disk/work2022/Base_Dataset/KTL_HCC_Dicom/HCC_1469/D /media/monib/External Disk/work2022/Base_Dataset/KTL_HCC_Dicom/HCC_1469/P\n",
      "/media/monib/External Disk/work2022/Base_Dataset/KTL_HCC_Dicom/HCC_1272/D /media/monib/External Disk/work2022/Base_Dataset/KTL_HCC_Dicom/HCC_1272/P\n",
      "/media/monib/External Disk/work2022/Base_Dataset/KTL_HCC_Dicom/HCC_1274/D /media/monib/External Disk/work2022/Base_Dataset/KTL_HCC_Dicom/HCC_1274/P\n",
      "/media/monib/External Disk/work2022/Base_Dataset/KTL_HCC_Dicom/HCC_1275/D /media/monib/External Disk/work2022/Base_Dataset/KTL_HCC_Dicom/HCC_1275/P\n",
      "/media/monib/External Disk/work2022/Base_Dataset/KTL_HCC_Dicom/HCC_1276/D /media/monib/External Disk/work2022/Base_Dataset/KTL_HCC_Dicom/HCC_1276/V\n",
      "/media/monib/External Disk/work2022/Base_Dataset/KTL_HCC_Dicom/HCC_1277/D /media/monib/External Disk/work2022/Base_Dataset/KTL_HCC_Dicom/HCC_1277/P\n",
      "/media/monib/External Disk/work2022/Base_Dataset/KTL_HCC_Dicom/HCC_1282/D /media/monib/External Disk/work2022/Base_Dataset/KTL_HCC_Dicom/HCC_1282/P\n",
      "/media/monib/External Disk/work2022/Base_Dataset/KTL_HCC_Dicom/HCC_1284/D /media/monib/External Disk/work2022/Base_Dataset/KTL_HCC_Dicom/HCC_1284/P\n",
      "/media/monib/External Disk/work2022/Base_Dataset/KTL_HCC_Dicom/HCC_1285/D /media/monib/External Disk/work2022/Base_Dataset/KTL_HCC_Dicom/HCC_1285/V\n",
      "/media/monib/External Disk/work2022/Base_Dataset/KTL_HCC_Dicom/HCC_1289/D /media/monib/External Disk/work2022/Base_Dataset/KTL_HCC_Dicom/HCC_1289/V\n",
      "/media/monib/External Disk/work2022/Base_Dataset/KTL_HCC_Dicom/HCC_1297/D /media/monib/External Disk/work2022/Base_Dataset/KTL_HCC_Dicom/HCC_1297/V\n",
      "/media/monib/External Disk/work2022/Base_Dataset/KTL_HCC_Dicom/HCC_1298/D /media/monib/External Disk/work2022/Base_Dataset/KTL_HCC_Dicom/HCC_1298/P\n",
      "/media/monib/External Disk/work2022/Base_Dataset/KTL_HCC_Dicom/HCC_1302/D /media/monib/External Disk/work2022/Base_Dataset/KTL_HCC_Dicom/HCC_1302/P\n",
      "/media/monib/External Disk/work2022/Base_Dataset/KTL_HCC_Dicom/HCC_1304/D /media/monib/External Disk/work2022/Base_Dataset/KTL_HCC_Dicom/HCC_1304/P\n",
      "/media/monib/External Disk/work2022/Base_Dataset/KTL_HCC_Dicom/HCC_1305/D /media/monib/External Disk/work2022/Base_Dataset/KTL_HCC_Dicom/HCC_1305/P\n",
      "/media/monib/External Disk/work2022/Base_Dataset/KTL_HCC_Dicom/HCC_1307/D /media/monib/External Disk/work2022/Base_Dataset/KTL_HCC_Dicom/HCC_1307/P\n",
      "/media/monib/External Disk/work2022/Base_Dataset/KTL_HCC_Dicom/HCC_1360/D /media/monib/External Disk/work2022/Base_Dataset/KTL_HCC_Dicom/HCC_1360/P\n",
      "/media/monib/External Disk/work2022/Base_Dataset/KTL_HCC_Dicom/HCC_1132/D /media/monib/External Disk/work2022/Base_Dataset/KTL_HCC_Dicom/HCC_1132/P\n",
      "/media/monib/External Disk/work2022/Base_Dataset/KTL_HCC_Dicom/HCC_1160/D /media/monib/External Disk/work2022/Base_Dataset/KTL_HCC_Dicom/HCC_1160/P\n",
      "/media/monib/External Disk/work2022/Base_Dataset/KTL_HCC_Dicom/HCC_1199/D /media/monib/External Disk/work2022/Base_Dataset/KTL_HCC_Dicom/HCC_1199/P\n",
      "/media/monib/External Disk/work2022/Base_Dataset/KTL_HCC_Dicom/HCC_1232/D /media/monib/External Disk/work2022/Base_Dataset/KTL_HCC_Dicom/HCC_1232/P\n",
      "/media/monib/External Disk/work2022/Base_Dataset/KTL_HCC_Dicom/HCC_1270/D /media/monib/External Disk/work2022/Base_Dataset/KTL_HCC_Dicom/HCC_1270/P\n",
      "/media/monib/External Disk/work2022/Base_Dataset/KTL_HCC_Dicom/HCC_1577/D /media/monib/External Disk/work2022/Base_Dataset/KTL_HCC_Dicom/HCC_1577/P\n",
      "/media/monib/External Disk/work2022/Base_Dataset/KTL_HCC_Dicom/HCC_1589/D /media/monib/External Disk/work2022/Base_Dataset/KTL_HCC_Dicom/HCC_1589/P\n",
      "/media/monib/External Disk/work2022/Base_Dataset/KTL_HCC_Dicom/HCC_1208/D /media/monib/External Disk/work2022/Base_Dataset/KTL_HCC_Dicom/HCC_1208/P\n",
      "/media/monib/External Disk/work2022/Base_Dataset/KTL_HCC_Dicom/HCC_1209/D /media/monib/External Disk/work2022/Base_Dataset/KTL_HCC_Dicom/HCC_1209/P\n",
      "/media/monib/External Disk/work2022/Base_Dataset/KTL_HCC_Dicom/HCC_1228/D /media/monib/External Disk/work2022/Base_Dataset/KTL_HCC_Dicom/HCC_1228/P\n",
      "/media/monib/External Disk/work2022/Base_Dataset/KTL_HCC_Dicom/HCC_1229/D /media/monib/External Disk/work2022/Base_Dataset/KTL_HCC_Dicom/HCC_1229/V\n",
      "/media/monib/External Disk/work2022/Base_Dataset/KTL_HCC_Dicom/HCC_1230/D /media/monib/External Disk/work2022/Base_Dataset/KTL_HCC_Dicom/HCC_1230/P\n",
      "/media/monib/External Disk/work2022/Base_Dataset/KTL_HCC_Dicom/HCC_1765/D /media/monib/External Disk/work2022/Base_Dataset/KTL_HCC_Dicom/HCC_1765/P\n",
      "/media/monib/External Disk/work2022/Base_Dataset/KTL_HCC_Dicom/HCC_1408/D /media/monib/External Disk/work2022/Base_Dataset/KTL_HCC_Dicom/HCC_1408/P\n",
      "/media/monib/External Disk/work2022/Base_Dataset/KTL_HCC_Dicom/HCC_1161/D /media/monib/External Disk/work2022/Base_Dataset/KTL_HCC_Dicom/HCC_1161/P\n",
      "/media/monib/External Disk/work2022/Base_Dataset/KTL_HCC_Dicom/HCC_1162/D /media/monib/External Disk/work2022/Base_Dataset/KTL_HCC_Dicom/HCC_1162/P\n",
      "/media/monib/External Disk/work2022/Base_Dataset/KTL_HCC_Dicom/HCC_1163/D /media/monib/External Disk/work2022/Base_Dataset/KTL_HCC_Dicom/HCC_1163/P\n",
      "/media/monib/External Disk/work2022/Base_Dataset/KTL_HCC_Dicom/HCC_1165/D /media/monib/External Disk/work2022/Base_Dataset/KTL_HCC_Dicom/HCC_1165/P\n",
      "/media/monib/External Disk/work2022/Base_Dataset/KTL_HCC_Dicom/HCC_1170/D /media/monib/External Disk/work2022/Base_Dataset/KTL_HCC_Dicom/HCC_1170/P\n",
      "/media/monib/External Disk/work2022/Base_Dataset/KTL_HCC_Dicom/HCC_1171/D /media/monib/External Disk/work2022/Base_Dataset/KTL_HCC_Dicom/HCC_1171/V\n",
      "/media/monib/External Disk/work2022/Base_Dataset/KTL_HCC_Dicom/HCC_1172/D /media/monib/External Disk/work2022/Base_Dataset/KTL_HCC_Dicom/HCC_1172/P\n",
      "/media/monib/External Disk/work2022/Base_Dataset/KTL_HCC_Dicom/HCC_1173/D /media/monib/External Disk/work2022/Base_Dataset/KTL_HCC_Dicom/HCC_1173/P\n",
      "/media/monib/External Disk/work2022/Base_Dataset/KTL_HCC_Dicom/HCC_1174/D /media/monib/External Disk/work2022/Base_Dataset/KTL_HCC_Dicom/HCC_1174/P\n",
      "/media/monib/External Disk/work2022/Base_Dataset/KTL_HCC_Dicom/HCC_1175/D /media/monib/External Disk/work2022/Base_Dataset/KTL_HCC_Dicom/HCC_1175/P\n",
      "/media/monib/External Disk/work2022/Base_Dataset/KTL_HCC_Dicom/HCC_1176/D /media/monib/External Disk/work2022/Base_Dataset/KTL_HCC_Dicom/HCC_1176/V\n",
      "/media/monib/External Disk/work2022/Base_Dataset/KTL_HCC_Dicom/HCC_1177/D /media/monib/External Disk/work2022/Base_Dataset/KTL_HCC_Dicom/HCC_1177/P\n",
      "/media/monib/External Disk/work2022/Base_Dataset/KTL_HCC_Dicom/HCC_1178/D /media/monib/External Disk/work2022/Base_Dataset/KTL_HCC_Dicom/HCC_1178/P\n",
      "/media/monib/External Disk/work2022/Base_Dataset/KTL_HCC_Dicom/HCC_1179/D /media/monib/External Disk/work2022/Base_Dataset/KTL_HCC_Dicom/HCC_1179/V\n",
      "/media/monib/External Disk/work2022/Base_Dataset/KTL_HCC_Dicom/HCC_1181/D /media/monib/External Disk/work2022/Base_Dataset/KTL_HCC_Dicom/HCC_1181/V\n",
      "/media/monib/External Disk/work2022/Base_Dataset/KTL_HCC_Dicom/HCC_1182/D /media/monib/External Disk/work2022/Base_Dataset/KTL_HCC_Dicom/HCC_1182/P\n",
      "/media/monib/External Disk/work2022/Base_Dataset/KTL_HCC_Dicom/HCC_1269/D /media/monib/External Disk/work2022/Base_Dataset/KTL_HCC_Dicom/HCC_1269/P\n",
      "/media/monib/External Disk/work2022/Base_Dataset/KTL_HCC_Dicom/HCC_1444/D /media/monib/External Disk/work2022/Base_Dataset/KTL_HCC_Dicom/HCC_1444/P\n",
      "/media/monib/External Disk/work2022/Base_Dataset/KTL_HCC_Dicom/HCC_1133/D /media/monib/External Disk/work2022/Base_Dataset/KTL_HCC_Dicom/HCC_1133/P\n",
      "/media/monib/External Disk/work2022/Base_Dataset/KTL_HCC_Dicom/HCC_1134/D /media/monib/External Disk/work2022/Base_Dataset/KTL_HCC_Dicom/HCC_1134/P\n",
      "/media/monib/External Disk/work2022/Base_Dataset/KTL_HCC_Dicom/HCC_1136/D /media/monib/External Disk/work2022/Base_Dataset/KTL_HCC_Dicom/HCC_1136/P\n",
      "/media/monib/External Disk/work2022/Base_Dataset/KTL_HCC_Dicom/HCC_1139/D /media/monib/External Disk/work2022/Base_Dataset/KTL_HCC_Dicom/HCC_1139/P\n",
      "/media/monib/External Disk/work2022/Base_Dataset/KTL_HCC_Dicom/HCC_1141/D /media/monib/External Disk/work2022/Base_Dataset/KTL_HCC_Dicom/HCC_1141/P\n",
      "/media/monib/External Disk/work2022/Base_Dataset/KTL_HCC_Dicom/HCC_1143/D /media/monib/External Disk/work2022/Base_Dataset/KTL_HCC_Dicom/HCC_1143/P\n",
      "/media/monib/External Disk/work2022/Base_Dataset/KTL_HCC_Dicom/HCC_1146/D /media/monib/External Disk/work2022/Base_Dataset/KTL_HCC_Dicom/HCC_1146/P\n",
      "/media/monib/External Disk/work2022/Base_Dataset/KTL_HCC_Dicom/HCC_1148/D /media/monib/External Disk/work2022/Base_Dataset/KTL_HCC_Dicom/HCC_1148/P\n",
      "/media/monib/External Disk/work2022/Base_Dataset/KTL_HCC_Dicom/HCC_1149/D /media/monib/External Disk/work2022/Base_Dataset/KTL_HCC_Dicom/HCC_1149/P\n",
      "/media/monib/External Disk/work2022/Base_Dataset/KTL_HCC_Dicom/HCC_1150/D /media/monib/External Disk/work2022/Base_Dataset/KTL_HCC_Dicom/HCC_1150/P\n",
      "/media/monib/External Disk/work2022/Base_Dataset/KTL_HCC_Dicom/HCC_1151/D /media/monib/External Disk/work2022/Base_Dataset/KTL_HCC_Dicom/HCC_1151/P\n",
      "/media/monib/External Disk/work2022/Base_Dataset/KTL_HCC_Dicom/HCC_1152/D /media/monib/External Disk/work2022/Base_Dataset/KTL_HCC_Dicom/HCC_1152/P\n",
      "/media/monib/External Disk/work2022/Base_Dataset/KTL_HCC_Dicom/HCC_1154/D /media/monib/External Disk/work2022/Base_Dataset/KTL_HCC_Dicom/HCC_1154/P\n"
     ]
    }
   ],
   "source": [
    "all_d_paths = []\n",
    "all_p_paths = []\n",
    "for same_slice_size_path in same_slice_size_paths:\n",
    "    phases_dirs = os.listdir(same_slice_size_path)\n",
    "    # print(phases_dirs)\n",
    "    for p in phases_dirs:\n",
    "        if p == \"D\":\n",
    "            all_d_paths.append(os.path.join(same_slice_size_path, p))\n",
    "        if p == \"P\" or p==\"V\":\n",
    "            all_p_paths.append(os.path.join(same_slice_size_path, p))\n",
    "for i in range(len(all_p_paths)):\n",
    "    print(all_d_paths[i], all_p_paths[i])"
   ],
   "metadata": {
    "collapsed": false,
    "pycharm": {
     "name": "#%%\n"
    }
   }
  },
  {
   "cell_type": "code",
   "execution_count": 27,
   "outputs": [
    {
     "name": "stdout",
     "output_type": "stream",
     "text": [
      "HCC_1104\n",
      "HCC_1105\n",
      "HCC_1106\n",
      "HCC_1107\n",
      "HCC_1109\n",
      "HCC_1110\n",
      "HCC_1111\n",
      "HCC_1114\n",
      "HCC_1115\n",
      "HCC_1116\n",
      "HCC_1119\n",
      "HCC_1120\n",
      "HCC_1121\n",
      "HCC_1122\n",
      "HCC_1126\n",
      "HCC_1128\n",
      "HCC_1130\n",
      "HCC_1131\n",
      "HCC_1469\n",
      "HCC_1272\n",
      "HCC_1274\n",
      "HCC_1275\n",
      "HCC_1276\n",
      "HCC_1277\n",
      "HCC_1282\n",
      "HCC_1284\n",
      "HCC_1285\n",
      "HCC_1289\n",
      "HCC_1297\n",
      "HCC_1298\n",
      "HCC_1302\n",
      "HCC_1304\n",
      "HCC_1305\n",
      "HCC_1307\n",
      "HCC_1360\n",
      "HCC_1132\n",
      "HCC_1160\n",
      "HCC_1199\n",
      "HCC_1232\n",
      "HCC_1270\n",
      "HCC_1577\n",
      "HCC_1589\n",
      "HCC_1208\n",
      "HCC_1209\n",
      "HCC_1228\n",
      "HCC_1229\n",
      "HCC_1230\n",
      "HCC_1765\n",
      "HCC_1408\n",
      "HCC_1161\n",
      "HCC_1162\n",
      "HCC_1163\n",
      "HCC_1165\n",
      "HCC_1170\n",
      "HCC_1171\n",
      "HCC_1172\n",
      "HCC_1173\n",
      "HCC_1174\n",
      "HCC_1175\n",
      "HCC_1176\n",
      "HCC_1177\n",
      "HCC_1178\n",
      "HCC_1179\n",
      "HCC_1181\n",
      "HCC_1182\n",
      "HCC_1269\n",
      "HCC_1444\n",
      "HCC_1133\n",
      "HCC_1134\n",
      "HCC_1136\n",
      "HCC_1139\n",
      "HCC_1141\n",
      "HCC_1143\n",
      "HCC_1146\n",
      "HCC_1148\n",
      "HCC_1149\n",
      "HCC_1150\n",
      "HCC_1151\n",
      "HCC_1152\n",
      "HCC_1154\n",
      "Copied 80 data\n"
     ]
    }
   ],
   "source": [
    "dest_root_path =\"/media/monib/External Disk/work2022/Base_Dataset/KTL_Same_Slice_D_P\"\n",
    "\n",
    "\n",
    "for d_path, p_path in zip(all_d_paths, all_p_paths):\n",
    "    print(d_path.split(\"/\")[-2])\n",
    "    save_path_d = os.path.join(dest_root_path, f\"delayed/{d_path.split('/')[-2]}\" +\"_d\")\n",
    "    save_path_p = os.path.join(dest_root_path, f\"portal/{p_path.split('/')[-2]}\" +\"_p\")\n",
    "    os.makedirs(save_path_d, exist_ok=True)\n",
    "    os.makedirs(save_path_p, exist_ok=True)\n",
    "    copy_tree(d_path, save_path_d)\n",
    "    copy_tree(p_path, save_path_p)\n",
    "print(f\"Copied {len(all_d_paths)} data\")\n"
   ],
   "metadata": {
    "collapsed": false,
    "pycharm": {
     "name": "#%%\n"
    }
   }
  },
  {
   "cell_type": "code",
   "execution_count": null,
   "outputs": [],
   "source": [],
   "metadata": {
    "collapsed": false,
    "pycharm": {
     "name": "#%%\n"
    }
   }
  }
 ],
 "metadata": {
  "kernelspec": {
   "display_name": "Python 3",
   "language": "python",
   "name": "python3"
  },
  "language_info": {
   "codemirror_mode": {
    "name": "ipython",
    "version": 2
   },
   "file_extension": ".py",
   "mimetype": "text/x-python",
   "name": "python",
   "nbconvert_exporter": "python",
   "pygments_lexer": "ipython2",
   "version": "2.7.6"
  }
 },
 "nbformat": 4,
 "nbformat_minor": 0
}